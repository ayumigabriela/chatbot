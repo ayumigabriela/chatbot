{
 "cells": [
  {
   "cell_type": "code",
   "execution_count": 3,
   "metadata": {},
   "outputs": [],
   "source": [
    "import pandas as pd\n",
    "import numpy as np\n",
    "from sklearn import tree\n",
    "\n",
    "train = pd.read_csv('tabela.csv')    \n",
    "y_train = train['caro']\n",
    "x_train = train.drop(['caro'], axis=1).values \n",
    "decision_tree = tree.DecisionTreeClassifier(max_depth = 20, min_samples_leaf = 10)\n",
    "decision_tree.fit(x_train, y_train)\n",
    "\n",
    "with open(\"tratado4.dot\", 'w') as f:\n",
    "     f = tree.export_graphviz(decision_tree,\n",
    "                              out_file=f,\n",
    "                              max_depth = 20,\n",
    "                              impurity = True,\n",
    "                              feature_names = list(train.drop(['caro'], axis=1)),\n",
    "                              class_names = ['False', 'True'],\n",
    "                              rounded = True,\n",
    "                              filled= True )\n",
    "        \n",
    "        \n",
    "       "
   ]
  },
  {
   "cell_type": "code",
   "execution_count": null,
   "metadata": {},
   "outputs": [],
   "source": []
  }
 ],
 "metadata": {
  "kernelspec": {
   "display_name": "Python 3",
   "language": "python",
   "name": "python3"
  },
  "language_info": {
   "codemirror_mode": {
    "name": "ipython",
    "version": 3
   },
   "file_extension": ".py",
   "mimetype": "text/x-python",
   "name": "python",
   "nbconvert_exporter": "python",
   "pygments_lexer": "ipython3",
   "version": "3.8.3"
  }
 },
 "nbformat": 4,
 "nbformat_minor": 4
}
